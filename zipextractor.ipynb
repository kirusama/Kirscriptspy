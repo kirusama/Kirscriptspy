import requests
import os

input_path = "/content/drive/MyDrive/Shareable/RBI Notifications/dl.txt"
output_path = "/content/drive/MyDrive/Shareable/RBI Notifications/2008"

with open(input_path, "r") as f:
    urls = f.read().split(",")

for url in urls:
    if not url.strip():  # Skip empty URLs
        continue

    # Check if the file already exists
    file_name = url.split("/")[-1]
    file_path = os.path.join(output_path, file_name)
    if os.path.exists(file_path):
        continue

    try:
        response = requests.get(url)
        if response.status_code == 200:
            with open(file_path, "wb") as f:
                f.write(response.content)
        else:
            print(f"Error {response.status_code}: {url} not found.")
    except requests.exceptions.RequestException as e:
        print(e)
